{
  "cells": [
    {
      "cell_type": "code",
      "execution_count": 172,
      "metadata": {
        "id": "SgDgpAxgdW7H"
      },
      "outputs": [],
      "source": [
        "import os"
      ]
    },
    {
      "cell_type": "code",
      "execution_count": 173,
      "metadata": {
        "colab": {
          "base_uri": "https://localhost:8080/"
        },
        "id": "i9byZgtfcu4h",
        "outputId": "016bb989-bd74-479c-9857-40aa095a7036"
      },
      "outputs": [
        {
          "output_type": "stream",
          "name": "stdout",
          "text": [
            "Drive already mounted at /content/drive; to attempt to forcibly remount, call drive.mount(\"/content/drive\", force_remount=True).\n"
          ]
        }
      ],
      "source": [
        "from google.colab import drive\n",
        "drive.mount('/content/drive')"
      ]
    },
    {
      "cell_type": "code",
      "execution_count": 174,
      "metadata": {
        "id": "v2y7g6YgdSAl"
      },
      "outputs": [],
      "source": [
        "if not os.path.exists('/content/drive/MyDrive/BERT-Preguntas-Respuestas-Posgrados'):\n",
        "  os.mkdir('/content/drive/MyDrive/BERT-Preguntas-Respuestas-Posgrados')"
      ]
    },
    {
      "cell_type": "code",
      "execution_count": 175,
      "metadata": {
        "id": "6S2XbV751x7S"
      },
      "outputs": [],
      "source": [
        "import json\n",
        "import torch\n",
        "import requests\n",
        "from tqdm import tqdm"
      ]
    },
    {
      "cell_type": "code",
      "execution_count": 176,
      "metadata": {
        "id": "inJ26wYu9I1K"
      },
      "outputs": [],
      "source": [
        "#Cargar los datos desde Github\n",
        "url1 = 'https://raw.githubusercontent.com/Leo646/TrabajoTitulacion/main/Cojunto_de_datos/Entrenamiento.json'\n",
        "url2 = 'https://raw.githubusercontent.com/Leo646/TrabajoTitulacion/main/Cojunto_de_datos/Validacion.json'"
      ]
    },
    {
      "cell_type": "code",
      "execution_count": 177,
      "metadata": {
        "id": "KD2pvJ5GCBpN"
      },
      "outputs": [],
      "source": [
        "def leer_datos(ruta):  \n",
        "  # Carga el archivo  json y almacenar \n",
        "  #el contexto, las preguntas y respuestas\n",
        "  #en arreglos\n",
        "  resp = requests.get(ruta)\n",
        "  data = json.loads(resp.text)\n",
        "  contexto = []\n",
        "  preguntas = []\n",
        "  respuestas= []\n",
        "  for group in data['data']:\n",
        "    for passage in group['paragraphs']:\n",
        "      context = passage['context']\n",
        "      for qa in passage['qas']:\n",
        "        question = qa['question']\n",
        "        for answer in qa['answers']:\n",
        "          contexto.append(context)\n",
        "          preguntas.append(question)\n",
        "          respuestas.append(answer)\n",
        "\n",
        "  return contexto, preguntas, respuestas"
      ]
    },
    {
      "cell_type": "code",
      "execution_count": 178,
      "metadata": {
        "id": "Oqg3nIzyFdwm"
      },
      "outputs": [],
      "source": [
        "train_contextos, train_preguntas, train_respuestas = leer_datos(url1)\n",
        "valid_contextos, valid_preguntas, valid_respuestas = leer_datos(url2)"
      ]
    },
    {
      "cell_type": "code",
      "execution_count": 179,
      "metadata": {
        "colab": {
          "base_uri": "https://localhost:8080/",
          "height": 424
        },
        "id": "mneFt9Diie6-",
        "outputId": "a3690f37-175f-47a9-c2d2-3a795c5683d5"
      },
      "outputs": [
        {
          "output_type": "execute_result",
          "data": {
            "text/plain": [
              "                                              contexto  \\\n",
              "0    Los postulantes pueden solicitar la inscripció...   \n",
              "1    Los postulantes pueden solicitar la inscripció...   \n",
              "2    Los postulantes pueden solicitar la inscripció...   \n",
              "3    Los postulantes pueden solicitar la inscripció...   \n",
              "4    Los postulantes pueden solicitar la inscripció...   \n",
              "..                                                 ...   \n",
              "105  Los estudiantes de posgrado que tomen asignatu...   \n",
              "106  Los estudiantes de posgrado que tomen asignatu...   \n",
              "107  Los estudiantes de posgrado que tomen asignatu...   \n",
              "108  Los estudiantes de posgrado que tomen asignatu...   \n",
              "109  Los estudiantes de posgrado que tomen asignatu...   \n",
              "\n",
              "                                              pregunta  \\\n",
              "0         ¿En dónde debo inscribirme para un posgrado?   \n",
              "1        ¿En dónde debo inscribirme para una maestría?   \n",
              "2    ¿Dónde debo realizar la solicitud para un posg...   \n",
              "3    ¿Existen descuentos para matricularse en las m...   \n",
              "4         ¿Que tipo de descuento hay para un posgrado?   \n",
              "..                                                 ...   \n",
              "105       ¿Dónde debo entregar el comprobante de pago?   \n",
              "106       ¿En dónde se entrega el comprobante de pago?   \n",
              "107  ¿Cómo se calcula el pago para una segunda matr...   \n",
              "108  ¿Cómo se calcula el pago para una tercera matr...   \n",
              "109                          ¿Cómo se hace el cálculo?   \n",
              "\n",
              "                                              respesta  \n",
              "0    {'text': 'en el Sistema de Gestión de Inscripc...  \n",
              "1    {'text': 'en el Sistema de Gestión de Inscripc...  \n",
              "2    {'text': 'en el Sistema de Gestión de Inscripc...  \n",
              "3    {'text': 'Si desea conocer información más det...  \n",
              "4    {'text': 'Si desea conocer información más det...  \n",
              "..                                                 ...  \n",
              "105  {'text': 'en la Secretaría del programa', 'ans...  \n",
              "106  {'text': 'en la Secretaría del programa', 'ans...  \n",
              "107  {'text': 'En caso de segunda y tercera matrícu...  \n",
              "108  {'text': 'En caso de segunda y tercera matrícu...  \n",
              "109  {'text': 'En caso de segunda y tercera matrícu...  \n",
              "\n",
              "[110 rows x 3 columns]"
            ],
            "text/html": [
              "\n",
              "  <div id=\"df-74023b93-a32a-42e7-bc8d-9a22d1cfe3bb\">\n",
              "    <div class=\"colab-df-container\">\n",
              "      <div>\n",
              "<style scoped>\n",
              "    .dataframe tbody tr th:only-of-type {\n",
              "        vertical-align: middle;\n",
              "    }\n",
              "\n",
              "    .dataframe tbody tr th {\n",
              "        vertical-align: top;\n",
              "    }\n",
              "\n",
              "    .dataframe thead th {\n",
              "        text-align: right;\n",
              "    }\n",
              "</style>\n",
              "<table border=\"1\" class=\"dataframe\">\n",
              "  <thead>\n",
              "    <tr style=\"text-align: right;\">\n",
              "      <th></th>\n",
              "      <th>contexto</th>\n",
              "      <th>pregunta</th>\n",
              "      <th>respesta</th>\n",
              "    </tr>\n",
              "  </thead>\n",
              "  <tbody>\n",
              "    <tr>\n",
              "      <th>0</th>\n",
              "      <td>Los postulantes pueden solicitar la inscripció...</td>\n",
              "      <td>¿En dónde debo inscribirme para un posgrado?</td>\n",
              "      <td>{'text': 'en el Sistema de Gestión de Inscripc...</td>\n",
              "    </tr>\n",
              "    <tr>\n",
              "      <th>1</th>\n",
              "      <td>Los postulantes pueden solicitar la inscripció...</td>\n",
              "      <td>¿En dónde debo inscribirme para una maestría?</td>\n",
              "      <td>{'text': 'en el Sistema de Gestión de Inscripc...</td>\n",
              "    </tr>\n",
              "    <tr>\n",
              "      <th>2</th>\n",
              "      <td>Los postulantes pueden solicitar la inscripció...</td>\n",
              "      <td>¿Dónde debo realizar la solicitud para un posg...</td>\n",
              "      <td>{'text': 'en el Sistema de Gestión de Inscripc...</td>\n",
              "    </tr>\n",
              "    <tr>\n",
              "      <th>3</th>\n",
              "      <td>Los postulantes pueden solicitar la inscripció...</td>\n",
              "      <td>¿Existen descuentos para matricularse en las m...</td>\n",
              "      <td>{'text': 'Si desea conocer información más det...</td>\n",
              "    </tr>\n",
              "    <tr>\n",
              "      <th>4</th>\n",
              "      <td>Los postulantes pueden solicitar la inscripció...</td>\n",
              "      <td>¿Que tipo de descuento hay para un posgrado?</td>\n",
              "      <td>{'text': 'Si desea conocer información más det...</td>\n",
              "    </tr>\n",
              "    <tr>\n",
              "      <th>...</th>\n",
              "      <td>...</td>\n",
              "      <td>...</td>\n",
              "      <td>...</td>\n",
              "    </tr>\n",
              "    <tr>\n",
              "      <th>105</th>\n",
              "      <td>Los estudiantes de posgrado que tomen asignatu...</td>\n",
              "      <td>¿Dónde debo entregar el comprobante de pago?</td>\n",
              "      <td>{'text': 'en la Secretaría del programa', 'ans...</td>\n",
              "    </tr>\n",
              "    <tr>\n",
              "      <th>106</th>\n",
              "      <td>Los estudiantes de posgrado que tomen asignatu...</td>\n",
              "      <td>¿En dónde se entrega el comprobante de pago?</td>\n",
              "      <td>{'text': 'en la Secretaría del programa', 'ans...</td>\n",
              "    </tr>\n",
              "    <tr>\n",
              "      <th>107</th>\n",
              "      <td>Los estudiantes de posgrado que tomen asignatu...</td>\n",
              "      <td>¿Cómo se calcula el pago para una segunda matr...</td>\n",
              "      <td>{'text': 'En caso de segunda y tercera matrícu...</td>\n",
              "    </tr>\n",
              "    <tr>\n",
              "      <th>108</th>\n",
              "      <td>Los estudiantes de posgrado que tomen asignatu...</td>\n",
              "      <td>¿Cómo se calcula el pago para una tercera matr...</td>\n",
              "      <td>{'text': 'En caso de segunda y tercera matrícu...</td>\n",
              "    </tr>\n",
              "    <tr>\n",
              "      <th>109</th>\n",
              "      <td>Los estudiantes de posgrado que tomen asignatu...</td>\n",
              "      <td>¿Cómo se hace el cálculo?</td>\n",
              "      <td>{'text': 'En caso de segunda y tercera matrícu...</td>\n",
              "    </tr>\n",
              "  </tbody>\n",
              "</table>\n",
              "<p>110 rows × 3 columns</p>\n",
              "</div>\n",
              "      <button class=\"colab-df-convert\" onclick=\"convertToInteractive('df-74023b93-a32a-42e7-bc8d-9a22d1cfe3bb')\"\n",
              "              title=\"Convert this dataframe to an interactive table.\"\n",
              "              style=\"display:none;\">\n",
              "        \n",
              "  <svg xmlns=\"http://www.w3.org/2000/svg\" height=\"24px\"viewBox=\"0 0 24 24\"\n",
              "       width=\"24px\">\n",
              "    <path d=\"M0 0h24v24H0V0z\" fill=\"none\"/>\n",
              "    <path d=\"M18.56 5.44l.94 2.06.94-2.06 2.06-.94-2.06-.94-.94-2.06-.94 2.06-2.06.94zm-11 1L8.5 8.5l.94-2.06 2.06-.94-2.06-.94L8.5 2.5l-.94 2.06-2.06.94zm10 10l.94 2.06.94-2.06 2.06-.94-2.06-.94-.94-2.06-.94 2.06-2.06.94z\"/><path d=\"M17.41 7.96l-1.37-1.37c-.4-.4-.92-.59-1.43-.59-.52 0-1.04.2-1.43.59L10.3 9.45l-7.72 7.72c-.78.78-.78 2.05 0 2.83L4 21.41c.39.39.9.59 1.41.59.51 0 1.02-.2 1.41-.59l7.78-7.78 2.81-2.81c.8-.78.8-2.07 0-2.86zM5.41 20L4 18.59l7.72-7.72 1.47 1.35L5.41 20z\"/>\n",
              "  </svg>\n",
              "      </button>\n",
              "      \n",
              "  <style>\n",
              "    .colab-df-container {\n",
              "      display:flex;\n",
              "      flex-wrap:wrap;\n",
              "      gap: 12px;\n",
              "    }\n",
              "\n",
              "    .colab-df-convert {\n",
              "      background-color: #E8F0FE;\n",
              "      border: none;\n",
              "      border-radius: 50%;\n",
              "      cursor: pointer;\n",
              "      display: none;\n",
              "      fill: #1967D2;\n",
              "      height: 32px;\n",
              "      padding: 0 0 0 0;\n",
              "      width: 32px;\n",
              "    }\n",
              "\n",
              "    .colab-df-convert:hover {\n",
              "      background-color: #E2EBFA;\n",
              "      box-shadow: 0px 1px 2px rgba(60, 64, 67, 0.3), 0px 1px 3px 1px rgba(60, 64, 67, 0.15);\n",
              "      fill: #174EA6;\n",
              "    }\n",
              "\n",
              "    [theme=dark] .colab-df-convert {\n",
              "      background-color: #3B4455;\n",
              "      fill: #D2E3FC;\n",
              "    }\n",
              "\n",
              "    [theme=dark] .colab-df-convert:hover {\n",
              "      background-color: #434B5C;\n",
              "      box-shadow: 0px 1px 3px 1px rgba(0, 0, 0, 0.15);\n",
              "      filter: drop-shadow(0px 1px 2px rgba(0, 0, 0, 0.3));\n",
              "      fill: #FFFFFF;\n",
              "    }\n",
              "  </style>\n",
              "\n",
              "      <script>\n",
              "        const buttonEl =\n",
              "          document.querySelector('#df-74023b93-a32a-42e7-bc8d-9a22d1cfe3bb button.colab-df-convert');\n",
              "        buttonEl.style.display =\n",
              "          google.colab.kernel.accessAllowed ? 'block' : 'none';\n",
              "\n",
              "        async function convertToInteractive(key) {\n",
              "          const element = document.querySelector('#df-74023b93-a32a-42e7-bc8d-9a22d1cfe3bb');\n",
              "          const dataTable =\n",
              "            await google.colab.kernel.invokeFunction('convertToInteractive',\n",
              "                                                     [key], {});\n",
              "          if (!dataTable) return;\n",
              "\n",
              "          const docLinkHtml = 'Like what you see? Visit the ' +\n",
              "            '<a target=\"_blank\" href=https://colab.research.google.com/notebooks/data_table.ipynb>data table notebook</a>'\n",
              "            + ' to learn more about interactive tables.';\n",
              "          element.innerHTML = '';\n",
              "          dataTable['output_type'] = 'display_data';\n",
              "          await google.colab.output.renderOutput(dataTable, element);\n",
              "          const docLink = document.createElement('div');\n",
              "          docLink.innerHTML = docLinkHtml;\n",
              "          element.appendChild(docLink);\n",
              "        }\n",
              "      </script>\n",
              "    </div>\n",
              "  </div>\n",
              "  "
            ]
          },
          "metadata": {},
          "execution_count": 179
        }
      ],
      "source": [
        "import pandas as pd\n",
        "user_list = list(zip(train_contextos, train_preguntas, train_respuestas))\n",
        "df = pd.DataFrame( user_list,columns=['contexto','pregunta', 'respesta'])\n",
        "df[:110]"
      ]
    },
    {
      "cell_type": "code",
      "execution_count": 180,
      "metadata": {
        "colab": {
          "base_uri": "https://localhost:8080/"
        },
        "id": "Q8bfaP0uFy3B",
        "outputId": "2bc8d1a8-a0cb-4743-eb4c-becac4890758"
      },
      "outputs": [
        {
          "output_type": "stream",
          "name": "stdout",
          "text": [
            "hay 139 preguntas\n",
            "['¿En dónde debo inscribirme para un posgrado?']\n",
            "[{'text': 'en el Sistema de Gestión de Inscripciones (SGI)', 'answer_start': 179}]\n"
          ]
        }
      ],
      "source": [
        "\n",
        "print(f'hay {len(train_preguntas)} preguntas')\n",
        "\n",
        "print(train_preguntas[:1])\n",
        "print(train_respuestas[:1])\n",
        "\n"
      ]
    },
    {
      "cell_type": "code",
      "execution_count": 181,
      "metadata": {
        "id": "oDCeV6n1Gift"
      },
      "outputs": [],
      "source": [
        "def posicion_final(respuestas,contextos):\n",
        "  for respuesta, contexto in zip(respuestas, contextos):\n",
        "    texto_respueta = respuesta['text']  #se extrae la respuesta\n",
        "    inicio_respuesta = respuesta['answer_start'] # se extrae la posición de inicio de la respuesta\n",
        "    final_respuesta = inicio_respuesta+ len(texto_respueta)# se calcula la posición final de la respuesta\n",
        "\n",
        "    \n",
        "    #En ocaciones las respuestas del conjunto de datos  están mal por uno o dos caracteres, \n",
        "    #así que se debe arreglar eso\n",
        "    if contexto[inicio_respuesta:final_respuesta ] == texto_respueta:\n",
        "      respuesta['answer_end'] = final_respuesta \n",
        "    elif contexto[inicio_respuesta-1:final_respuesta -1] == texto_respueta:\n",
        "      respuesta['answer_start'] = inicio_respuesta  - 1\n",
        "      respuesta['answer_end'] = final_respuesta  - 1     \n",
        "    elif contexto[inicio_respuesta-2:final_respuesta -2] == texto_respueta:\n",
        "      respuesta['answer_start'] = inicio_respuesta  - 2\n",
        "      respuesta['answer_end'] = final_respuesta  - 2     \n",
        "posicion_final(train_respuestas,train_contextos,)\n",
        "posicion_final(valid_respuestas,valid_contextos)"
      ]
    },
    {
      "cell_type": "code",
      "execution_count": 182,
      "metadata": {
        "colab": {
          "base_uri": "https://localhost:8080/",
          "height": 424
        },
        "id": "7iwM-9tMI6Ll",
        "outputId": "a30cd4ec-b286-450f-e9fb-8a0a2461e763"
      },
      "outputs": [
        {
          "output_type": "execute_result",
          "data": {
            "text/plain": [
              "                                              contexto  \\\n",
              "0    Los postulantes pueden solicitar la inscripció...   \n",
              "1    Los postulantes pueden solicitar la inscripció...   \n",
              "2    Los postulantes pueden solicitar la inscripció...   \n",
              "3    Los postulantes pueden solicitar la inscripció...   \n",
              "4    Los postulantes pueden solicitar la inscripció...   \n",
              "..                                                 ...   \n",
              "134  Las programas realizarán la homologación media...   \n",
              "135  Para consultar las fechas de inscripción, matr...   \n",
              "136  Para consultar las fechas de inscripción, matr...   \n",
              "137  Para consultar las fechas de inscripción, matr...   \n",
              "138  Para consultar las fechas de inscripción, matr...   \n",
              "\n",
              "                                              pregunta  \\\n",
              "0         ¿En dónde debo inscribirme para un posgrado?   \n",
              "1        ¿En dónde debo inscribirme para una maestría?   \n",
              "2    ¿Dónde debo realizar la solicitud para un posg...   \n",
              "3    ¿Existen descuentos para matricularse en las m...   \n",
              "4         ¿Que tipo de descuento hay para un posgrado?   \n",
              "..                                                 ...   \n",
              "134            ¿Qué es la validación de conocimientos?   \n",
              "135                  ¿En qué fecha inician las clases?   \n",
              "136  ¿Cuál es el calendario académico de las maestr...   \n",
              "137  ¿Cuál es el calendario académico de los posgra...   \n",
              "138    ¿En qué fecha me puedo inscribir a un posgrado?   \n",
              "\n",
              "                                              respesta  \n",
              "0    {'text': 'en el Sistema de Gestión de Inscripc...  \n",
              "1    {'text': 'en el Sistema de Gestión de Inscripc...  \n",
              "2    {'text': 'en el Sistema de Gestión de Inscripc...  \n",
              "3    {'text': 'Si desea conocer información más det...  \n",
              "4    {'text': 'Si desea conocer información más det...  \n",
              "..                                                 ...  \n",
              "134  {'text': 'consiste en validar de los conocimie...  \n",
              "135  {'text': 'Para consultar las fechas de inscrip...  \n",
              "136  {'text': 'Para consultar las fechas de inscrip...  \n",
              "137  {'text': 'Para consultar las fechas de inscrip...  \n",
              "138  {'text': 'Para consultar las fechas de inscrip...  \n",
              "\n",
              "[139 rows x 3 columns]"
            ],
            "text/html": [
              "\n",
              "  <div id=\"df-823edbbb-94f2-4569-bbed-f0faab0f11c8\">\n",
              "    <div class=\"colab-df-container\">\n",
              "      <div>\n",
              "<style scoped>\n",
              "    .dataframe tbody tr th:only-of-type {\n",
              "        vertical-align: middle;\n",
              "    }\n",
              "\n",
              "    .dataframe tbody tr th {\n",
              "        vertical-align: top;\n",
              "    }\n",
              "\n",
              "    .dataframe thead th {\n",
              "        text-align: right;\n",
              "    }\n",
              "</style>\n",
              "<table border=\"1\" class=\"dataframe\">\n",
              "  <thead>\n",
              "    <tr style=\"text-align: right;\">\n",
              "      <th></th>\n",
              "      <th>contexto</th>\n",
              "      <th>pregunta</th>\n",
              "      <th>respesta</th>\n",
              "    </tr>\n",
              "  </thead>\n",
              "  <tbody>\n",
              "    <tr>\n",
              "      <th>0</th>\n",
              "      <td>Los postulantes pueden solicitar la inscripció...</td>\n",
              "      <td>¿En dónde debo inscribirme para un posgrado?</td>\n",
              "      <td>{'text': 'en el Sistema de Gestión de Inscripc...</td>\n",
              "    </tr>\n",
              "    <tr>\n",
              "      <th>1</th>\n",
              "      <td>Los postulantes pueden solicitar la inscripció...</td>\n",
              "      <td>¿En dónde debo inscribirme para una maestría?</td>\n",
              "      <td>{'text': 'en el Sistema de Gestión de Inscripc...</td>\n",
              "    </tr>\n",
              "    <tr>\n",
              "      <th>2</th>\n",
              "      <td>Los postulantes pueden solicitar la inscripció...</td>\n",
              "      <td>¿Dónde debo realizar la solicitud para un posg...</td>\n",
              "      <td>{'text': 'en el Sistema de Gestión de Inscripc...</td>\n",
              "    </tr>\n",
              "    <tr>\n",
              "      <th>3</th>\n",
              "      <td>Los postulantes pueden solicitar la inscripció...</td>\n",
              "      <td>¿Existen descuentos para matricularse en las m...</td>\n",
              "      <td>{'text': 'Si desea conocer información más det...</td>\n",
              "    </tr>\n",
              "    <tr>\n",
              "      <th>4</th>\n",
              "      <td>Los postulantes pueden solicitar la inscripció...</td>\n",
              "      <td>¿Que tipo de descuento hay para un posgrado?</td>\n",
              "      <td>{'text': 'Si desea conocer información más det...</td>\n",
              "    </tr>\n",
              "    <tr>\n",
              "      <th>...</th>\n",
              "      <td>...</td>\n",
              "      <td>...</td>\n",
              "      <td>...</td>\n",
              "    </tr>\n",
              "    <tr>\n",
              "      <th>134</th>\n",
              "      <td>Las programas realizarán la homologación media...</td>\n",
              "      <td>¿Qué es la validación de conocimientos?</td>\n",
              "      <td>{'text': 'consiste en validar de los conocimie...</td>\n",
              "    </tr>\n",
              "    <tr>\n",
              "      <th>135</th>\n",
              "      <td>Para consultar las fechas de inscripción, matr...</td>\n",
              "      <td>¿En qué fecha inician las clases?</td>\n",
              "      <td>{'text': 'Para consultar las fechas de inscrip...</td>\n",
              "    </tr>\n",
              "    <tr>\n",
              "      <th>136</th>\n",
              "      <td>Para consultar las fechas de inscripción, matr...</td>\n",
              "      <td>¿Cuál es el calendario académico de las maestr...</td>\n",
              "      <td>{'text': 'Para consultar las fechas de inscrip...</td>\n",
              "    </tr>\n",
              "    <tr>\n",
              "      <th>137</th>\n",
              "      <td>Para consultar las fechas de inscripción, matr...</td>\n",
              "      <td>¿Cuál es el calendario académico de los posgra...</td>\n",
              "      <td>{'text': 'Para consultar las fechas de inscrip...</td>\n",
              "    </tr>\n",
              "    <tr>\n",
              "      <th>138</th>\n",
              "      <td>Para consultar las fechas de inscripción, matr...</td>\n",
              "      <td>¿En qué fecha me puedo inscribir a un posgrado?</td>\n",
              "      <td>{'text': 'Para consultar las fechas de inscrip...</td>\n",
              "    </tr>\n",
              "  </tbody>\n",
              "</table>\n",
              "<p>139 rows × 3 columns</p>\n",
              "</div>\n",
              "      <button class=\"colab-df-convert\" onclick=\"convertToInteractive('df-823edbbb-94f2-4569-bbed-f0faab0f11c8')\"\n",
              "              title=\"Convert this dataframe to an interactive table.\"\n",
              "              style=\"display:none;\">\n",
              "        \n",
              "  <svg xmlns=\"http://www.w3.org/2000/svg\" height=\"24px\"viewBox=\"0 0 24 24\"\n",
              "       width=\"24px\">\n",
              "    <path d=\"M0 0h24v24H0V0z\" fill=\"none\"/>\n",
              "    <path d=\"M18.56 5.44l.94 2.06.94-2.06 2.06-.94-2.06-.94-.94-2.06-.94 2.06-2.06.94zm-11 1L8.5 8.5l.94-2.06 2.06-.94-2.06-.94L8.5 2.5l-.94 2.06-2.06.94zm10 10l.94 2.06.94-2.06 2.06-.94-2.06-.94-.94-2.06-.94 2.06-2.06.94z\"/><path d=\"M17.41 7.96l-1.37-1.37c-.4-.4-.92-.59-1.43-.59-.52 0-1.04.2-1.43.59L10.3 9.45l-7.72 7.72c-.78.78-.78 2.05 0 2.83L4 21.41c.39.39.9.59 1.41.59.51 0 1.02-.2 1.41-.59l7.78-7.78 2.81-2.81c.8-.78.8-2.07 0-2.86zM5.41 20L4 18.59l7.72-7.72 1.47 1.35L5.41 20z\"/>\n",
              "  </svg>\n",
              "      </button>\n",
              "      \n",
              "  <style>\n",
              "    .colab-df-container {\n",
              "      display:flex;\n",
              "      flex-wrap:wrap;\n",
              "      gap: 12px;\n",
              "    }\n",
              "\n",
              "    .colab-df-convert {\n",
              "      background-color: #E8F0FE;\n",
              "      border: none;\n",
              "      border-radius: 50%;\n",
              "      cursor: pointer;\n",
              "      display: none;\n",
              "      fill: #1967D2;\n",
              "      height: 32px;\n",
              "      padding: 0 0 0 0;\n",
              "      width: 32px;\n",
              "    }\n",
              "\n",
              "    .colab-df-convert:hover {\n",
              "      background-color: #E2EBFA;\n",
              "      box-shadow: 0px 1px 2px rgba(60, 64, 67, 0.3), 0px 1px 3px 1px rgba(60, 64, 67, 0.15);\n",
              "      fill: #174EA6;\n",
              "    }\n",
              "\n",
              "    [theme=dark] .colab-df-convert {\n",
              "      background-color: #3B4455;\n",
              "      fill: #D2E3FC;\n",
              "    }\n",
              "\n",
              "    [theme=dark] .colab-df-convert:hover {\n",
              "      background-color: #434B5C;\n",
              "      box-shadow: 0px 1px 3px 1px rgba(0, 0, 0, 0.15);\n",
              "      filter: drop-shadow(0px 1px 2px rgba(0, 0, 0, 0.3));\n",
              "      fill: #FFFFFF;\n",
              "    }\n",
              "  </style>\n",
              "\n",
              "      <script>\n",
              "        const buttonEl =\n",
              "          document.querySelector('#df-823edbbb-94f2-4569-bbed-f0faab0f11c8 button.colab-df-convert');\n",
              "        buttonEl.style.display =\n",
              "          google.colab.kernel.accessAllowed ? 'block' : 'none';\n",
              "\n",
              "        async function convertToInteractive(key) {\n",
              "          const element = document.querySelector('#df-823edbbb-94f2-4569-bbed-f0faab0f11c8');\n",
              "          const dataTable =\n",
              "            await google.colab.kernel.invokeFunction('convertToInteractive',\n",
              "                                                     [key], {});\n",
              "          if (!dataTable) return;\n",
              "\n",
              "          const docLinkHtml = 'Like what you see? Visit the ' +\n",
              "            '<a target=\"_blank\" href=https://colab.research.google.com/notebooks/data_table.ipynb>data table notebook</a>'\n",
              "            + ' to learn more about interactive tables.';\n",
              "          element.innerHTML = '';\n",
              "          dataTable['output_type'] = 'display_data';\n",
              "          await google.colab.output.renderOutput(dataTable, element);\n",
              "          const docLink = document.createElement('div');\n",
              "          docLink.innerHTML = docLinkHtml;\n",
              "          element.appendChild(docLink);\n",
              "        }\n",
              "      </script>\n",
              "    </div>\n",
              "  </div>\n",
              "  "
            ]
          },
          "metadata": {},
          "execution_count": 182
        }
      ],
      "source": [
        "user_list = list(zip(train_contextos, train_preguntas, train_respuestas))\n",
        "df = pd.DataFrame( user_list,columns=['contexto','pregunta', 'respesta'])\n",
        "df[:200]"
      ]
    },
    {
      "cell_type": "code",
      "execution_count": 183,
      "metadata": {
        "colab": {
          "base_uri": "https://localhost:8080/"
        },
        "id": "baV-xG3QHGPR",
        "outputId": "4b6bcb9e-2232-481b-9046-f2eaf1a617f4"
      },
      "outputs": [
        {
          "output_type": "stream",
          "name": "stdout",
          "text": [
            "['¿En dónde debo inscribirme para un posgrado?'] \n",
            "\n",
            "[{'text': 'en el Sistema de Gestión de Inscripciones (SGI)', 'answer_start': 179, 'answer_end': 226}]\n"
          ]
        }
      ],
      "source": [
        "# You can see that now we get the answer_end also\n",
        "print(train_preguntas[:1],\"\\n\")\n",
        "print(train_respuestas[:1])"
      ]
    },
    {
      "cell_type": "code",
      "execution_count": 184,
      "metadata": {
        "colab": {
          "base_uri": "https://localhost:8080/"
        },
        "id": "MEjit0oKZO00",
        "outputId": "37c271b3-d325-42a9-f1da-79b73822ec28"
      },
      "outputs": [
        {
          "output_type": "stream",
          "name": "stdout",
          "text": [
            "Looking in indexes: https://pypi.org/simple, https://us-python.pkg.dev/colab-wheels/public/simple/\n",
            "Requirement already satisfied: transformers in /usr/local/lib/python3.7/dist-packages (4.22.1)\n",
            "Requirement already satisfied: filelock in /usr/local/lib/python3.7/dist-packages (from transformers) (3.8.0)\n",
            "Requirement already satisfied: tqdm>=4.27 in /usr/local/lib/python3.7/dist-packages (from transformers) (4.64.1)\n",
            "Requirement already satisfied: pyyaml>=5.1 in /usr/local/lib/python3.7/dist-packages (from transformers) (6.0)\n",
            "Requirement already satisfied: requests in /usr/local/lib/python3.7/dist-packages (from transformers) (2.23.0)\n",
            "Requirement already satisfied: huggingface-hub<1.0,>=0.9.0 in /usr/local/lib/python3.7/dist-packages (from transformers) (0.9.1)\n",
            "Requirement already satisfied: regex!=2019.12.17 in /usr/local/lib/python3.7/dist-packages (from transformers) (2022.6.2)\n",
            "Requirement already satisfied: packaging>=20.0 in /usr/local/lib/python3.7/dist-packages (from transformers) (21.3)\n",
            "Requirement already satisfied: tokenizers!=0.11.3,<0.13,>=0.11.1 in /usr/local/lib/python3.7/dist-packages (from transformers) (0.12.1)\n",
            "Requirement already satisfied: numpy>=1.17 in /usr/local/lib/python3.7/dist-packages (from transformers) (1.21.6)\n",
            "Requirement already satisfied: importlib-metadata in /usr/local/lib/python3.7/dist-packages (from transformers) (4.12.0)\n",
            "Requirement already satisfied: typing-extensions>=3.7.4.3 in /usr/local/lib/python3.7/dist-packages (from huggingface-hub<1.0,>=0.9.0->transformers) (4.1.1)\n",
            "Requirement already satisfied: pyparsing!=3.0.5,>=2.0.2 in /usr/local/lib/python3.7/dist-packages (from packaging>=20.0->transformers) (3.0.9)\n",
            "Requirement already satisfied: zipp>=0.5 in /usr/local/lib/python3.7/dist-packages (from importlib-metadata->transformers) (3.8.1)\n",
            "Requirement already satisfied: urllib3!=1.25.0,!=1.25.1,<1.26,>=1.21.1 in /usr/local/lib/python3.7/dist-packages (from requests->transformers) (1.24.3)\n",
            "Requirement already satisfied: chardet<4,>=3.0.2 in /usr/local/lib/python3.7/dist-packages (from requests->transformers) (3.0.4)\n",
            "Requirement already satisfied: certifi>=2017.4.17 in /usr/local/lib/python3.7/dist-packages (from requests->transformers) (2022.6.15)\n",
            "Requirement already satisfied: idna<3,>=2.5 in /usr/local/lib/python3.7/dist-packages (from requests->transformers) (2.10)\n"
          ]
        }
      ],
      "source": [
        " ! pip install transformers"
      ]
    },
    {
      "cell_type": "code",
      "execution_count": 185,
      "metadata": {
        "colab": {
          "base_uri": "https://localhost:8080/"
        },
        "id": "z57YNvusGiRe",
        "outputId": "efac5f8e-0385-4309-ce12-59d763b02a38"
      },
      "outputs": [
        {
          "output_type": "stream",
          "name": "stderr",
          "text": [
            "Asking to truncate to max_length but no maximum length is provided and the model has no predefined maximum length. Default to no truncation.\n"
          ]
        }
      ],
      "source": [
        "from transformers import BertTokenizerFast\n",
        "#tokenizar los datos en vectores numéricos\n",
        "tokenizador = BertTokenizerFast.from_pretrained('mrm8488/distill-bert-base-spanish-wwm-cased-finetuned-spa-squad2-es',do_lower_case=False)\n",
        "#agregar tokens que el modelo no contempla en su vocabulario \n",
        "tokenizador.add_tokens(['Decano/a','8.99','7.99','50%','70%','30%','40%','60%','75%','Software','%','75','y/o','/','(SGI)',';','70','7','https://unl.edu.ec/posgrados',' https://unl.edu.ec/calendario-maestrias'])\n",
        "#tokenizar el contexo y las preguntas \n",
        "train_codificacion = tokenizador(train_contextos, train_preguntas, truncation=True, padding=True)\n",
        "valid_codificacion= tokenizador(valid_contextos, valid_preguntas, truncation=True, padding=True)"
      ]
    },
    {
      "cell_type": "code",
      "execution_count": 186,
      "metadata": {
        "colab": {
          "base_uri": "https://localhost:8080/"
        },
        "id": "EDvzsdXMe2Tg",
        "outputId": "11130866-7642-4fd1-9088-bb41ab957ef0"
      },
      "outputs": [
        {
          "output_type": "execute_result",
          "data": {
            "text/plain": [
              "dict_keys(['input_ids', 'token_type_ids', 'attention_mask'])"
            ]
          },
          "metadata": {},
          "execution_count": 186
        }
      ],
      "source": [
        "train_codificacion.keys()"
      ]
    },
    {
      "cell_type": "code",
      "execution_count": 187,
      "metadata": {
        "colab": {
          "base_uri": "https://localhost:8080/"
        },
        "id": "CHqYU80LfBSF",
        "outputId": "9a5693f6-e337-4865-9e77-127d3202e955"
      },
      "outputs": [
        {
          "output_type": "stream",
          "name": "stdout",
          "text": [
            "We have 139 context-question pairs\n"
          ]
        }
      ],
      "source": [
        "no_of_encodings = len(train_codificacion['input_ids'])\n",
        "print(f'We have {no_of_encodings} context-question pairs')"
      ]
    },
    {
      "cell_type": "code",
      "execution_count": 187,
      "metadata": {
        "id": "FPHDLtx1fIoU"
      },
      "outputs": [],
      "source": []
    },
    {
      "cell_type": "code",
      "execution_count": 188,
      "metadata": {
        "colab": {
          "base_uri": "https://localhost:8080/",
          "height": 140
        },
        "id": "l0ldjzltfbUt",
        "outputId": "4cd61bb7-c478-4a88-9f1d-511b8ba4aa50"
      },
      "outputs": [
        {
          "output_type": "execute_result",
          "data": {
            "text/plain": [
              "'[CLS] Los postulantes pueden solicitar la inscripción a los programas de posgrado ( Maestría académica con trayectoria profesional y Maestría académica con trayectoria de investigación ) en el Sistema de Gestión de Inscripciones (SGI). Si desea conocer información más detallada sobre los posgrados con respecto a costos, duración, descuentos, entre otras cuestiones, visite el siguiente enlace : https://unl.edu.ec/posgrados [SEP] ¿ En dónde debo inscribirme para una maestría? [SEP] [PAD] [PAD] [PAD] [PAD] [PAD] [PAD] [PAD] [PAD] [PAD] [PAD] [PAD] [PAD] [PAD] [PAD] [PAD] [PAD] [PAD] [PAD] [PAD] [PAD] [PAD] [PAD] [PAD] [PAD] [PAD] [PAD] [PAD] [PAD] [PAD] [PAD] [PAD] [PAD] [PAD] [PAD] [PAD] [PAD] [PAD] [PAD] [PAD] [PAD] [PAD] [PAD] [PAD] [PAD] [PAD] [PAD] [PAD] [PAD] [PAD] [PAD] [PAD] [PAD] [PAD] [PAD] [PAD] [PAD] [PAD] [PAD] [PAD] [PAD] [PAD] [PAD] [PAD] [PAD] [PAD] [PAD] [PAD] [PAD] [PAD] [PAD] [PAD] [PAD] [PAD] [PAD] [PAD] [PAD] [PAD] [PAD] [PAD] [PAD] [PAD] [PAD] [PAD] [PAD] [PAD] [PAD] [PAD] [PAD] [PAD] [PAD] [PAD] [PAD] [PAD] [PAD] [PAD] [PAD] [PAD] [PAD] [PAD] [PAD] [PAD] [PAD] [PAD] [PAD] [PAD] [PAD] [PAD] [PAD] [PAD] [PAD] [PAD] [PAD] [PAD] [PAD] [PAD] [PAD] [PAD] [PAD] [PAD] [PAD] [PAD] [PAD] [PAD] [PAD] [PAD] [PAD] [PAD] [PAD] [PAD] [PAD] [PAD] [PAD] [PAD] [PAD] [PAD] [PAD] [PAD] [PAD] [PAD] [PAD] [PAD] [PAD] [PAD] [PAD] [PAD] [PAD] [PAD] [PAD] [PAD] [PAD] [PAD] [PAD] [PAD] [PAD] [PAD] [PAD] [PAD] [PAD] [PAD] [PAD] [PAD] [PAD] [PAD] [PAD] [PAD] [PAD] [PAD] [PAD] [PAD] [PAD] [PAD] [PAD] [PAD] [PAD] [PAD] [PAD] [PAD] [PAD] [PAD] [PAD] [PAD] [PAD] [PAD] [PAD] [PAD] [PAD] [PAD] [PAD] [PAD] [PAD] [PAD] [PAD] [PAD] [PAD] [PAD] [PAD] [PAD] [PAD] [PAD] [PAD]'"
            ],
            "application/vnd.google.colaboratory.intrinsic+json": {
              "type": "string"
            }
          },
          "metadata": {},
          "execution_count": 188
        }
      ],
      "source": [
        "train_codificacion['input_ids'][:109]\n",
        "# print(\"\")\n",
        "# print(\"\")\n",
        "tokenizador.decode(train_codificacion['input_ids'][1])"
      ]
    },
    {
      "cell_type": "code",
      "execution_count": 189,
      "metadata": {
        "colab": {
          "base_uri": "https://localhost:8080/",
          "height": 140
        },
        "id": "ku1bpD56z7Rz",
        "outputId": "f2e2ae48-cfd7-4dfb-cb2f-37ea59a46db3"
      },
      "outputs": [
        {
          "output_type": "execute_result",
          "data": {
            "text/plain": [
              "'[CLS] Los postulantes pueden solicitar la inscripción a los programas de posgrado ( Maestría académica con trayectoria profesional y Maestría académica con trayectoria de investigación ) en el Sistema de Gestión de Inscripciones (SGI). Si desea conocer información más detallada sobre los posgrados con respecto a costos, duración, descuentos, entre otras cuestiones, visite el siguiente enlace : https://unl.edu.ec/posgrados [SEP] ¿ En dónde debo inscribirme para una maestría? [SEP] [PAD] [PAD] [PAD] [PAD] [PAD] [PAD] [PAD] [PAD] [PAD] [PAD] [PAD] [PAD] [PAD] [PAD] [PAD] [PAD] [PAD] [PAD] [PAD] [PAD] [PAD] [PAD] [PAD] [PAD] [PAD] [PAD] [PAD] [PAD] [PAD] [PAD] [PAD] [PAD] [PAD] [PAD] [PAD] [PAD] [PAD] [PAD] [PAD] [PAD] [PAD] [PAD] [PAD] [PAD] [PAD] [PAD] [PAD] [PAD] [PAD] [PAD] [PAD] [PAD] [PAD] [PAD] [PAD] [PAD] [PAD] [PAD] [PAD] [PAD] [PAD] [PAD] [PAD] [PAD] [PAD] [PAD] [PAD] [PAD] [PAD] [PAD] [PAD] [PAD] [PAD] [PAD] [PAD] [PAD] [PAD] [PAD] [PAD] [PAD] [PAD] [PAD] [PAD] [PAD] [PAD] [PAD] [PAD] [PAD] [PAD] [PAD] [PAD] [PAD] [PAD] [PAD] [PAD] [PAD] [PAD] [PAD] [PAD] [PAD] [PAD] [PAD] [PAD] [PAD] [PAD] [PAD] [PAD] [PAD] [PAD] [PAD] [PAD] [PAD] [PAD] [PAD] [PAD] [PAD] [PAD] [PAD] [PAD] [PAD] [PAD] [PAD] [PAD] [PAD] [PAD] [PAD] [PAD] [PAD] [PAD] [PAD] [PAD] [PAD] [PAD] [PAD] [PAD] [PAD] [PAD] [PAD] [PAD] [PAD] [PAD] [PAD] [PAD] [PAD] [PAD] [PAD] [PAD] [PAD] [PAD] [PAD] [PAD] [PAD] [PAD] [PAD] [PAD] [PAD] [PAD] [PAD] [PAD] [PAD] [PAD] [PAD] [PAD] [PAD] [PAD] [PAD] [PAD] [PAD] [PAD] [PAD] [PAD] [PAD] [PAD] [PAD] [PAD] [PAD] [PAD] [PAD] [PAD] [PAD] [PAD] [PAD] [PAD] [PAD] [PAD] [PAD] [PAD] [PAD] [PAD] [PAD] [PAD] [PAD] [PAD] [PAD] [PAD] [PAD] [PAD] [PAD] [PAD] [PAD]'"
            ],
            "application/vnd.google.colaboratory.intrinsic+json": {
              "type": "string"
            }
          },
          "metadata": {},
          "execution_count": 189
        }
      ],
      "source": [
        "tokenizador.decode(train_codificacion['input_ids'][1])"
      ]
    },
    {
      "cell_type": "code",
      "execution_count": 190,
      "metadata": {
        "id": "BUM5-nOyODnL"
      },
      "outputs": [],
      "source": [
        "def posicion_tokens(encodings, answers):\n",
        "  posicion_inicial = []\n",
        "  posicion_final = []\n",
        "  #se transforma la posicion inicial y final\n",
        "  #de la respuetas en tokens\n",
        "  for i in range(len(answers)):\n",
        "    #se transforma la posición de inicio de cada respuesta en tokens\n",
        "    posicion_inicial.append(encodings.char_to_token(i, answers[i]['answer_start']))\n",
        "    #se transforma la posición de donde termina cada respuesta en tokens\n",
        "    posicion_final.append(encodings.char_to_token(i, answers[i]['answer_end'] - 1))\n",
        "\n",
        "    if posicion_inicial[-1] is None: # si la posiscion de inicio de la respuesta es nula\n",
        "      posicion_inicial[-1] = tokenizador.model_max_length\n",
        "    if posicion_final[-1] is None: # si la posiscion final de la respuesta es nula\n",
        "      posicion_final[-1] = tokenizador.model_max_length\n",
        "\n",
        "  encodings.update({'start_positions': posicion_inicial, 'end_positions': posicion_final})\n",
        "\n",
        "posicion_tokens(train_codificacion, train_respuestas)\n",
        "posicion_tokens(valid_codificacion, valid_respuestas)"
      ]
    },
    {
      "cell_type": "markdown",
      "metadata": {
        "id": "oQAl39PO1WV8"
      },
      "source": []
    },
    {
      "cell_type": "code",
      "execution_count": 191,
      "metadata": {
        "colab": {
          "base_uri": "https://localhost:8080/"
        },
        "id": "fA6WPscPOPon",
        "outputId": "aa7908c7-71d6-401b-941b-c6bd7d6fce78"
      },
      "outputs": [
        {
          "output_type": "execute_result",
          "data": {
            "text/plain": [
              "[16,\n",
              " 16,\n",
              " 55,\n",
              " 55,\n",
              " 77,\n",
              " 93,\n",
              " 12,\n",
              " 59,\n",
              " 30,\n",
              " 30,\n",
              " 30,\n",
              " 63,\n",
              " 63,\n",
              " 63,\n",
              " 63,\n",
              " 63,\n",
              " 109,\n",
              " 109,\n",
              " 109,\n",
              " 109,\n",
              " 150,\n",
              " 150,\n",
              " 150,\n",
              " 150,\n",
              " 39,\n",
              " 22,\n",
              " 22,\n",
              " 15]"
            ]
          },
          "metadata": {},
          "execution_count": 191
        }
      ],
      "source": [
        "#train_codificacion['end_positions'][:150]\n",
        "valid_codificacion['start_positions'][:30]"
      ]
    },
    {
      "cell_type": "code",
      "execution_count": 192,
      "metadata": {
        "id": "nqVgt2d2LB4E"
      },
      "outputs": [],
      "source": [
        "from torch.utils.data import Dataset\n",
        "class conjunto_Datos(Dataset):\n",
        "  def __init__(self, encodings):\n",
        "    self.encodings = encodings\n",
        "  def __getitem__(self, idx):\n",
        "    return {key: torch.tensor(val[idx]) for key, val in self.encodings.items()}\n",
        "  def __len__(self):\n",
        "    return len(self.encodings.input_ids)"
      ]
    },
    {
      "cell_type": "code",
      "execution_count": 285,
      "metadata": {
        "id": "RfpQgBOCPLwh"
      },
      "outputs": [],
      "source": [
        "train_dataset = conjunto_Datos(train_codificacion)\n",
        "valid_dataset = conjunto_Datos(valid_codificacion)"
      ]
    },
    {
      "cell_type": "code",
      "execution_count": 383,
      "metadata": {
        "id": "a9PFv0KcLIEY"
      },
      "outputs": [],
      "source": [
        "#parámetros\n",
        "batch_size=7\n",
        "N_EPOCHS =8\n",
        "lr=5e-5"
      ]
    },
    {
      "cell_type": "code",
      "execution_count": 384,
      "metadata": {
        "id": "oQrQQfYPJaJ7"
      },
      "outputs": [],
      "source": [
        "from torch.utils.data import DataLoader\n",
        "\n",
        "# Define los cargadores para el entrenamiento\n",
        "train_loader = DataLoader(train_dataset, batch_size, shuffle=True)\n",
        "valid_loader = DataLoader(valid_dataset, batch_size)"
      ]
    },
    {
      "cell_type": "code",
      "execution_count": 385,
      "metadata": {
        "colab": {
          "base_uri": "https://localhost:8080/"
        },
        "id": "WAksIkVqckUx",
        "outputId": "81ac499a-4231-40a1-e749-38de51f6bd95"
      },
      "outputs": [
        {
          "output_type": "execute_result",
          "data": {
            "text/plain": [
              "Embedding(31022, 768)"
            ]
          },
          "metadata": {},
          "execution_count": 385
        }
      ],
      "source": [
        "from transformers import AutoModelForQuestionAnswering\n",
        "#Descarga del modelo para el entrenamiento\n",
        "modelo = AutoModelForQuestionAnswering.from_pretrained('mrm8488/distill-bert-base-spanish-wwm-cased-finetuned-spa-squad2-es')\n",
        "modelo.resize_token_embeddings(len(tokenizador)) \n"
      ]
    },
    {
      "cell_type": "code",
      "execution_count": 386,
      "metadata": {
        "colab": {
          "base_uri": "https://localhost:8080/"
        },
        "id": "iP2x5xduI7DQ",
        "outputId": "29c1fe60-988b-45d8-e338-fb56663ba392"
      },
      "outputs": [
        {
          "output_type": "stream",
          "name": "stdout",
          "text": [
            "trabajando con  cuda\n"
          ]
        }
      ],
      "source": [
        "#Detemita si hay una GPU diposnible para el entrenamiento caso contrario se usa una CPU\n",
        "dispositivo = torch.device('cuda') if torch.cuda.is_available() else torch.device('cpu')\n",
        "print(f'trabajando con  {dispositivo}')\n",
        "\n"
      ]
    },
    {
      "cell_type": "code",
      "execution_count": 387,
      "metadata": {
        "colab": {
          "base_uri": "https://localhost:8080/"
        },
        "id": "1be4XR33JHqf",
        "outputId": "0b9b9026-8b65-4302-c709-0fb660011d90"
      },
      "outputs": [
        {
          "output_type": "stream",
          "name": "stderr",
          "text": [
            "Epoch 1: 100%|██████████| 20/20 [00:07<00:00,  2.67it/s, loss=0.753]\n",
            "Epoch 2: 100%|██████████| 20/20 [00:07<00:00,  2.72it/s, loss=0.359]\n",
            "Epoch 3: 100%|██████████| 20/20 [00:07<00:00,  2.70it/s, loss=0.101]\n",
            "Epoch 4: 100%|██████████| 20/20 [00:07<00:00,  2.69it/s, loss=0.0158]\n",
            "Epoch 5: 100%|██████████| 20/20 [00:07<00:00,  2.68it/s, loss=0.0117]\n",
            "Epoch 6: 100%|██████████| 20/20 [00:07<00:00,  2.66it/s, loss=0.296]\n",
            "Epoch 7: 100%|██████████| 20/20 [00:07<00:00,  2.64it/s, loss=0.0649]\n",
            "Epoch 8: 100%|██████████| 20/20 [00:07<00:00,  2.63it/s, loss=0.0161]\n"
          ]
        }
      ],
      "source": [
        "from transformers import AdamW\n",
        "optimizador = AdamW(modelo.parameters(), lr)\n",
        "modelo.to(dispositivo)#el modleo trabaja con GPU Tesla T4\n",
        "modelo.train() #se entrena el modelo\n",
        "for iteracion in range(N_EPOCHS):#catida de iteraciones\n",
        "#permite vizualizar el progreso del entrenamiento en cada iteracion\n",
        "  progreso = tqdm(train_loader, leave=True) \n",
        "  for batch in progreso: #por cada iteración el modelo recibe una cantidad de datos \n",
        "    optimizador.zero_grad()#permite mejorar el rendimiento\n",
        "    #se pide lo datos para el entrenamiento \n",
        "    entrada = batch['input_ids'].to(dispositivo)\n",
        "    atencion= batch['attention_mask'].to(dispositivo)\n",
        "    posicion_inicial = batch['start_positions'].to(dispositivo)\n",
        "    posiscion_final = batch['end_positions'].to(dispositivo)\n",
        "    #se envia los datos al modelo para que genere una salida\n",
        "    salida = modelo(entrada, attention_mask=atencion, start_positions=posicion_inicial, end_positions=posiscion_final)\n",
        "    perdida = salida[0]#el modelo genera una pérdida por cada iteración\n",
        "    perdida.backward()\n",
        "    optimizador.step()\n",
        "    #se imprime el progreso del entrenamiento en cada iteracion icluida la pérdida\n",
        "    progreso.set_description(f'Epoch {iteracion+1}')\n",
        "    progreso.set_postfix(loss=perdida.item())"
      ]
    },
    {
      "cell_type": "code",
      "execution_count": 388,
      "metadata": {
        "id": "ep0FB-5XdniP",
        "colab": {
          "base_uri": "https://localhost:8080/"
        },
        "outputId": "bfc70cd4-97ee-4f53-8034-8b526b3c5983"
      },
      "outputs": [
        {
          "output_type": "execute_result",
          "data": {
            "text/plain": [
              "('/content/drive/MyDrive/BERT-Preguntas-Respuestas-Posgrados/tokenizer_config.json',\n",
              " '/content/drive/MyDrive/BERT-Preguntas-Respuestas-Posgrados/special_tokens_map.json',\n",
              " '/content/drive/MyDrive/BERT-Preguntas-Respuestas-Posgrados/vocab.txt',\n",
              " '/content/drive/MyDrive/BERT-Preguntas-Respuestas-Posgrados/added_tokens.json',\n",
              " '/content/drive/MyDrive/BERT-Preguntas-Respuestas-Posgrados/tokenizer.json')"
            ]
          },
          "metadata": {},
          "execution_count": 388
        }
      ],
      "source": [
        "model_path = '/content/drive/MyDrive/BERT-Preguntas-Respuestas-Posgrados'\n",
        "modelo.save_pretrained(model_path)\n",
        "tokenizador.save_pretrained(model_path)"
      ]
    },
    {
      "cell_type": "code",
      "execution_count": 389,
      "metadata": {
        "id": "y-vhXcp5fVYt",
        "colab": {
          "base_uri": "https://localhost:8080/"
        },
        "outputId": "5d75e623-d15d-4d96-b247-96e9ac90186d"
      },
      "outputs": [
        {
          "output_type": "stream",
          "name": "stdout",
          "text": [
            "trabajado con cuda\n"
          ]
        }
      ],
      "source": [
        "from transformers import BertForQuestionAnswering, BertTokenizerFast\n",
        "\n",
        "model_path = '/content/drive/MyDrive/BERT-Preguntas-Respuestas-Posgrados'\n",
        "model = BertForQuestionAnswering.from_pretrained(model_path)\n",
        "tokenizer = BertTokenizerFast.from_pretrained(model_path)\n",
        "\n",
        "device = torch.device('cuda') if torch.cuda.is_available() else torch.device('cpu')\n",
        "print(f'trabajado con {device}')\n",
        "\n",
        "model = model.to(device)"
      ]
    },
    {
      "cell_type": "code",
      "execution_count": 390,
      "metadata": {
        "id": "DpHV1MU5cIXl",
        "colab": {
          "base_uri": "https://localhost:8080/"
        },
        "outputId": "4edd62a4-fb30-40f9-b40f-75ee6609de81"
      },
      "outputs": [
        {
          "output_type": "stream",
          "name": "stdout",
          "text": [
            "Mon Sep 19 20:23:54 2022       \n",
            "+-----------------------------------------------------------------------------+\n",
            "| NVIDIA-SMI 460.32.03    Driver Version: 460.32.03    CUDA Version: 11.2     |\n",
            "|-------------------------------+----------------------+----------------------+\n",
            "| GPU  Name        Persistence-M| Bus-Id        Disp.A | Volatile Uncorr. ECC |\n",
            "| Fan  Temp  Perf  Pwr:Usage/Cap|         Memory-Usage | GPU-Util  Compute M. |\n",
            "|                               |                      |               MIG M. |\n",
            "|===============================+======================+======================|\n",
            "|   0  Tesla T4            Off  | 00000000:00:04.0 Off |                    0 |\n",
            "| N/A   65C    P0    31W /  70W |   9726MiB / 15109MiB |     16%      Default |\n",
            "|                               |                      |                  N/A |\n",
            "+-------------------------------+----------------------+----------------------+\n",
            "                                                                               \n",
            "+-----------------------------------------------------------------------------+\n",
            "| Processes:                                                                  |\n",
            "|  GPU   GI   CI        PID   Type   Process name                  GPU Memory |\n",
            "|        ID   ID                                                   Usage      |\n",
            "|=============================================================================|\n",
            "+-----------------------------------------------------------------------------+\n"
          ]
        }
      ],
      "source": [
        "!nvidia-smi"
      ]
    },
    {
      "cell_type": "code",
      "execution_count": 391,
      "metadata": {
        "id": "J4zXywPMcgkr",
        "colab": {
          "base_uri": "https://localhost:8080/"
        },
        "outputId": "19b732bd-2924-41c2-94ac-35fe0b759020"
      },
      "outputs": [
        {
          "output_type": "stream",
          "name": "stdout",
          "text": [
            "nvcc: NVIDIA (R) Cuda compiler driver\n",
            "Copyright (c) 2005-2020 NVIDIA Corporation\n",
            "Built on Mon_Oct_12_20:09:46_PDT_2020\n",
            "Cuda compilation tools, release 11.1, V11.1.105\n",
            "Build cuda_11.1.TC455_06.29190527_0\n"
          ]
        }
      ],
      "source": [
        "!nvcc --version"
      ]
    },
    {
      "cell_type": "code",
      "execution_count": 392,
      "metadata": {
        "colab": {
          "base_uri": "https://localhost:8080/"
        },
        "id": "o8f5gz2nfmi-",
        "outputId": "cbc96384-1880-4258-f21f-1b81457db429"
      },
      "outputs": [
        {
          "output_type": "stream",
          "name": "stderr",
          "text": [
            "100%|██████████| 4/4 [00:00<00:00,  9.72it/s]"
          ]
        },
        {
          "output_type": "stream",
          "name": "stdout",
          "text": [
            "\n",
            " 0.7857142984867096\n",
            "\n",
            "\n",
            "T/P\tanswer_start\tanswer_end\n",
            "\n",
            "true\t150\t187\n",
            "pred\t150\t187\n",
            "\n",
            "true\t150\t187\n",
            "pred\t150\t187\n",
            "\n",
            "true\t150\t187\n",
            "pred\t150\t187\n",
            "\n",
            "true\t39\t42\n",
            "pred\t20\t42\n",
            "\n",
            "true\t22\t25\n",
            "pred\t8\t27\n",
            "\n",
            "true\t22\t25\n",
            "pred\t8\t27\n",
            "\n",
            "true\t15\t32\n",
            "pred\t15\t32\n",
            "\n"
          ]
        },
        {
          "output_type": "stream",
          "name": "stderr",
          "text": [
            "\n"
          ]
        }
      ],
      "source": [
        "model.eval()\n",
        "\n",
        "acc = []\n",
        "\n",
        "for batch in tqdm(valid_loader):\n",
        "  with torch.no_grad():\n",
        "    input_ids = batch['input_ids'].to(device)\n",
        "    attention_mask = batch['attention_mask'].to(device)\n",
        "    start_true = batch['start_positions'].to(device)\n",
        "    end_true = batch['end_positions'].to(device)\n",
        "    \n",
        "    outputs = model(input_ids, attention_mask=attention_mask)\n",
        "\n",
        "    start_pred = torch.argmax(outputs['start_logits'], dim=1)\n",
        "    end_pred = torch.argmax(outputs['end_logits'], dim=1)\n",
        "\n",
        "    acc.append(((start_pred == start_true).sum()/len(start_pred)).item())\n",
        "    acc.append(((end_pred == end_true).sum()/len(end_pred)).item())\n",
        "\n",
        "acc = sum(acc)/len(acc)\n",
        "print(\"\\n\",acc)\n",
        "print(\"\\n\\nT/P\\tanswer_start\\tanswer_end\\n\")\n",
        "for i in range(len(start_true)):\n",
        "  print(f\"true\\t{start_true[i]}\\t{end_true[i]}\\n\"\n",
        "        f\"pred\\t{start_pred[i]}\\t{end_pred[i]}\\n\")"
      ]
    },
    {
      "cell_type": "code",
      "execution_count": 393,
      "metadata": {
        "id": "L5fBSuslydtp"
      },
      "outputs": [],
      "source": [
        "def prediccion(contexto, pregunta):\n",
        "  #se toqueniza las preguntas y el contexto\n",
        "  entradas = tokenizer.encode_plus(pregunta, contexto, return_tensors='pt').to(device)\n",
        "  salida = model(**entradas)\n",
        "  inicio_respuesta = torch.argmax(salida[0])  \n",
        "  final_respuesta = torch.argmax(salida[1]) + 1 \n",
        "  respuesta = tokenizer.convert_tokens_to_string(tokenizer.convert_ids_to_tokens(entradas['input_ids'][0][inicio_respuesta:final_respuesta]))\n",
        "  return respuesta\n",
        "\n",
        "def normalize_text(s):\n",
        "  \"\"\"Removing articles and punctuation, and standardizing whitespace are all typical text processing steps.\"\"\"\n",
        "  import string, re\n",
        "  def remove_articles(text):\n",
        "    regex = re.compile(r\"\\b(a|an|the)\\b\", re.UNICODE)\n",
        "    return re.sub(regex, \" \", text)\n",
        "  def white_space_fix(text):\n",
        "    return \" \".join(text.split())\n",
        "\n",
        "  def lower(text):\n",
        "    return text.lower()\n",
        "\n",
        "  return white_space_fix(remove_articles(lower(s)))\n",
        " \n",
        "def exact_match(prediction, truth):\n",
        "    return bool(normalize_text(prediction) == normalize_text(truth))\n",
        "\n",
        "def compute_f1(prediction, truth):\n",
        "  pred_tokens = normalize_text(prediction).split()\n",
        "  truth_tokens = normalize_text(truth).split()\n",
        "  \n",
        "\n",
        "  if len(pred_tokens) == 0 or len(truth_tokens) == 0:\n",
        "    return int(pred_tokens == truth_tokens)\n",
        "  \n",
        "  common_tokens = set(pred_tokens) & set(truth_tokens)\n",
        "\n",
        "  if len(common_tokens) == 0:\n",
        "    return 0\n",
        "  \n",
        "  prec = len(common_tokens) / len(pred_tokens)\n",
        "  rec = len(common_tokens) / len(truth_tokens)\n",
        "  \n",
        "  return round(2 * (prec * rec) / (prec + rec), 2)\n",
        "  \n",
        "def question_answer(context, question,answer):\n",
        "  prediction = prediccion(context,question)\n",
        "  em_score = exact_match(prediction, answer)\n",
        "  f1_score = compute_f1(prediction, answer)\n",
        "\n",
        "  print(f'Pregunta: {question}')\n",
        "  print(f'Prediccion: {prediction}')\n",
        "  print(f'Respuesta verdadeda: {answer}')\n",
        "  print(f'Coindencia exacta: {em_score}')\n",
        "  print(f'F1 Presicion: {f1_score}\\n')"
      ]
    },
    {
      "cell_type": "code",
      "execution_count": 395,
      "metadata": {
        "colab": {
          "base_uri": "https://localhost:8080/"
        },
        "id": "3JIsRAxSykd6",
        "outputId": "2dd7e0e1-df50-4e45-b446-113dd1ec2210"
      },
      "outputs": [
        {
          "output_type": "stream",
          "name": "stdout",
          "text": [
            "Pregunta: validación de conocimientos?\n",
            "Prediccion: Cuando la homologación se realice por validación de conocimientos, en la planificación de la prueba se considerarán los siguientes componentes : información general, antecedentes ; nombre de las asignaturas a validar, estructura del examen de validación, responsable de la elaboración y aplicación del examen, información del postulante, plataforma a utilizar para la aplicación del examen en forma virtual o presencial, cronograma de ejecución y firmas de responsabilidad\n",
            "Respuesta verdadeda:  Cuando la homologación se realice por validación de conocimientos, en la planificación de la prueba se considerarán los siguientes componentes : información general, antecedentes ; nombre de las asignaturas a validar, estructura del examen de validación, responsable de la elaboración y aplicación del examen, información del postulante, plataforma a utilizar para la aplicación del examen en forma virtual o presencial, cronograma de ejecución y firmas de responsabilidad\n",
            "Coindencia exacta: True\n",
            "F1 Presicion: 0.71\n",
            "\n"
          ]
        }
      ],
      "source": [
        "context = \"\"\"Para la homologación mediante análisis comparativo de conocimientos, se requieren los siguientes requisitos: El aspirante realizará la solicitud de homologación al Decano de la Facultad, adjuntando lo siguiente: Récord académico con las calificaciones de las asignaturas, certificado de no haber agotado la tercera matrícula en la carrera de destino, programas analíticos y sílabos aprobados por la institución de procedencia. Cuando la homologación se realice por validación de conocimientos, en la planificación de la prueba se considerarán los siguientes componentes: información general, antecedentes; nombre de las asignaturas a validar, estructura del examen de validación, responsable de la elaboración y aplicación del examen, información del postulante, plataforma a utilizar para la aplicación del examen en forma virtual o presencial, cronograma de ejecución y firmas de responsabilidad\"\"\"\n",
        "questions = [\n",
        "           \"validación de conocimientos?\",\n",
        "         \n",
        "\n",
        "             ]\n",
        "\n",
        "answers = [\" Cuando la homologación se realice por validación de conocimientos, en la planificación de la prueba se considerarán los siguientes componentes : información general, antecedentes ; nombre de las asignaturas a validar, estructura del examen de validación, responsable de la elaboración y aplicación del examen, información del postulante, plataforma a utilizar para la aplicación del examen en forma virtual o presencial, cronograma de ejecución y firmas de responsabilidad\"]\n",
        "\n",
        "for question, answer in zip(questions, answers):\n",
        "  question_answer(context, question, answer)"
      ]
    }
  ],
  "metadata": {
    "accelerator": "GPU",
    "colab": {
      "collapsed_sections": [],
      "provenance": []
    },
    "gpuClass": "standard",
    "kernelspec": {
      "display_name": "Python 3",
      "name": "python3"
    },
    "language_info": {
      "name": "python"
    }
  },
  "nbformat": 4,
  "nbformat_minor": 0
}